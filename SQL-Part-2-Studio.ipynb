{
    "metadata": {
        "kernelspec": {
            "name": "SQL",
            "display_name": "SQL",
            "language": "sql"
        },
        "language_info": {
            "name": "sql",
            "version": ""
        },
        "extensions": {
            "azuredatastudio": {
                "version": 1,
                "views": []
            }
        }
    },
    "nbformat_minor": 2,
    "nbformat": 4,
    "cells": [
        {
            "cell_type": "markdown",
            "source": [
                "# Lesson 11: SQL Part 2 Studio\n",
                "\n",
                "> This studio asks you to create queries using the functions from this lesson. As you work through the studio, you may need to create more than one query to return the desired answer.  For others, you may need to combine functions together in order to answer the original query.  The questions have been organized in a way to help you puzzle out the answers.\n",
                "> \n",
                "> Happy querying! \n",
                "\n",
                "**The Dataset:**   \n",
                "\n",
                "> We will be working with the **BooksDB dataset** from Lesson 10.  You should already have access to it."
            ],
            "metadata": {
                "azdata_cell_guid": "bbaa021d-dbcb-4f90-a05f-f280d524589a"
            },
            "attachments": {}
        },
        {
            "cell_type": "markdown",
            "source": [
                "## The Questions:"
            ],
            "metadata": {
                "azdata_cell_guid": "bfc33995-70d4-4403-a870-39244e5e9727"
            }
        },
        {
            "cell_type": "markdown",
            "source": [
                "1.  Create a query that returns the longest title in the dataset.  We can do this in two steps.\n",
                "\n",
                "> A. Create a query that returns the length of the longest title.\n",
                "> \n",
                "> B. Create a query that uses the length you found in step A to find the longest title."
            ],
            "metadata": {
                "azdata_cell_guid": "29e63840-f200-4b1b-9239-4dc60a402c1d"
            },
            "attachments": {}
        },
        {
            "cell_type": "code",
            "source": [
                "-- Code here:\r\n",
                "SELECT TOP 1 title FROM dbo.books\r\n",
                "WHERE len(title) = (SELECT MAX(len(title)) FROM dbo.books)\r\n",
                "\r\n",
                "SELECT TOP 1 LEN(title) AS 'Length of Longest Title' FROM dbo.books\r\n",
                "WHERE len(title) = (SELECT MAX(len(title)) FROM dbo.books)\r\n",
                ""
            ],
            "metadata": {
                "azdata_cell_guid": "fc1a211d-ea4e-446a-bbf8-e31499c50aba",
                "language": "sql"
            },
            "outputs": [],
            "execution_count": null
        },
        {
            "cell_type": "code",
            "source": [
                "--PART B\r\n",
                "SELECT TOP 1 LEN (title) AS 'Length of Longest Title',\r\n",
                "title AS 'Longest Title'\r\n",
                "FROM dbo.books ORDER BY [Length of Longest Title] DESC"
            ],
            "metadata": {
                "azdata_cell_guid": "92a1cf0d-750c-4155-a6f6-d4bdcb9bac76",
                "language": "sql",
                "tags": []
            },
            "outputs": [],
            "execution_count": null
        },
        {
            "cell_type": "markdown",
            "source": [
                "2.  Use what you learned in question 1 to find the shortest author name.  \n",
                "\n",
                "> A. Create a query that returns the length of the shortest author.\n",
                "> \n",
                "> B. Create a query that returns the shortest author's name."
            ],
            "metadata": {
                "azdata_cell_guid": "5de64491-7324-44ce-bda4-e22b07229854"
            },
            "attachments": {}
        },
        {
            "cell_type": "code",
            "source": [
                "-- Code here:\r\n",
                "--PART A\r\n",
                "SELECT TOP 1 LEN(authors) AS 'Length of Name'\r\n",
                "FROM dbo.books\r\n",
                "ORDER BY [Length of Name] ASC\r\n",
                "\r\n",
                "--PART B\r\n",
                "SELECT TOP 1 authors FROM dbo.books\r\n",
                "WHERE len(authors) = (SELECT min(len(authors)) FROM dbo.books)"
            ],
            "metadata": {
                "azdata_cell_guid": "61423c75-cb55-470f-b062-a1901d3da67c",
                "language": "sql",
                "tags": []
            },
            "outputs": [],
            "execution_count": null
        },
        {
            "cell_type": "markdown",
            "source": [
                "3\\. How many titles contain the word \"The\"?  \n",
                "\n",
                "  \n",
                "\n",
                "> A. Is there a difference between the number of titles that use \"The\" or \"the\"?"
            ],
            "metadata": {
                "azdata_cell_guid": "97f50346-9729-4d1b-926c-e1b53c5c5e68"
            },
            "attachments": {}
        },
        {
            "cell_type": "code",
            "source": [
                "-- Code here:\r\n",
                "SELECT title FROM dbo.books\r\n",
                "WHERE title LIKE '%The%' or title LIKE '%the%'\r\n",
                "\r\n",
                "--Doesn't seem like there is a difference\r\n",
                ""
            ],
            "metadata": {
                "azdata_cell_guid": "f58433db-eb3b-46e0-bb4d-85ca52d359b5",
                "language": "sql",
                "tags": []
            },
            "outputs": [],
            "execution_count": null
        },
        {
            "cell_type": "markdown",
            "source": [
                "4.  How many authors' names _start_ with 'Z'?"
            ],
            "metadata": {
                "azdata_cell_guid": "e0d89eca-410d-4e29-82ca-265b79c73fea"
            },
            "attachments": {}
        },
        {
            "cell_type": "code",
            "source": [
                "-- Code here:\r\n",
                "SELECT authors FROM dbo.books\r\n",
                "WHERE authors LIKE 'Z%';\r\n",
                "--11 Authors names start with 'Z'"
            ],
            "metadata": {
                "azdata_cell_guid": "850f04c8-458a-4cfb-95c4-4dbb7a3d63d0",
                "language": "sql"
            },
            "outputs": [],
            "execution_count": null
        },
        {
            "cell_type": "markdown",
            "source": [
                "5\\. How many books have been identified as printed in a language other than English?  There are four language codes for English: 'en', 'eng', 'en-US', and 'en-UK'.  Use LEFT to answer the question.  (Do not use the wildcard)\n",
                "\n",
                "You might want to use one of these [comparison operators](https://docs.microsoft.com/en-us/sql/t-sql/language-elements/comparison-operators-transact-sql?view=sql-server-ver15)."
            ],
            "metadata": {
                "azdata_cell_guid": "7066afeb-79d2-4e7f-b497-cbde17655b19"
            },
            "attachments": {}
        },
        {
            "cell_type": "code",
            "source": [
                "-- Code here:\r\n",
                "SELECT language_code, book_id AS 'Books Printed in Other language' FROM dbo.books \r\n",
                "WHERE LEFT(language_code, 3) <> 'en'\r\n",
                "AND LEFT(language_code, 3) <> 'eng'\r\n",
                "AND LEFT(language_code, 5) <> 'en-US'\r\n",
                "AND LEFT(language_code, 5) <> 'en-UK'\r\n",
                "-- 501 books are printed in other language codes (feel like en-CA, and en-GB are probably also considered english)\r\n",
                "\r\n",
                "\r\n",
                "--AND language_code != 'eng'\r\n",
                "--AND language_code != 'en-US'\r\n",
                "--AND language_code != 'en-UK'"
            ],
            "metadata": {
                "azdata_cell_guid": "5a85f5ae-dd59-4fa1-828a-c63fa330ff7f",
                "language": "sql",
                "tags": []
            },
            "outputs": [],
            "execution_count": null
        },
        {
            "cell_type": "markdown",
            "source": [
                "6\\. Retry question 5 using SUBSTRING."
            ],
            "metadata": {
                "azdata_cell_guid": "93153cd1-ecea-4e4b-87f5-2214993a7291"
            },
            "attachments": {}
        },
        {
            "cell_type": "code",
            "source": [
                "-- Code here:\r\n",
                "--counting en-CA and en-GB as english, we get 186 instead\r\n",
                "SELECT COUNT(language_code )FROM dbo.books\r\n",
                "WHERE SUBSTRING (language_code,1,2) != 'en'\r\n",
                ""
            ],
            "metadata": {
                "azdata_cell_guid": "7756ae02-4ec2-4456-b3a7-c3604bf07e26",
                "language": "sql"
            },
            "outputs": [],
            "execution_count": null
        },
        {
            "cell_type": "markdown",
            "source": [
                "7.  Create a column that returns the title, authors, and language codes.  Concatenate these elements so that they return in the following way: title by authors in language\\_code language.\n",
                "\n",
                "> A.  Check each selected column to see where any values are NULL.  Did any of the columns contain NULL values?  If so, which one?"
            ],
            "metadata": {
                "azdata_cell_guid": "c8124542-ea76-4153-96ef-f4db908fbd6c"
            },
            "attachments": {}
        },
        {
            "cell_type": "code",
            "source": [
                "-- Code here:\r\n",
                "--WHERE title IS NULL OR authors IS NULL OR language_code IS NULL;\r\n",
                "SELECT TOP 5 CONCAT (title,' by ',authors,' in ',language_code ) AS 'Books'\r\n",
                "FROM dbo.books\r\n",
                ""
            ],
            "metadata": {
                "azdata_cell_guid": "26705af1-6191-48b9-b649-7bc93cad102d",
                "language": "sql"
            },
            "outputs": [],
            "execution_count": null
        },
        {
            "cell_type": "markdown",
            "source": [
                "8.  Update the query in question 7 using COALESCE to change the language code values from NULL to 'unknown'.\n",
                "\n",
                "> A.  Has this changed the language\\_code  where the values are NULL?\n",
                "> \n",
                "> \\\\>Yes because we are changing it to unknown so know has a value."
            ],
            "metadata": {
                "azdata_cell_guid": "17fd76a8-afa7-4d86-a200-2902d7310a2b"
            },
            "attachments": {}
        },
        {
            "cell_type": "code",
            "source": [
                "-- Code here:\r\n",
                "--WHERE language_code IS NULL\r\n",
                "SELECT TOP 5 title +' by ' + authors +' in ' + COALESCE(language_code,'unknown') AS 'Books + Unknown'\r\n",
                "FROM dbo.books\r\n",
                ""
            ],
            "metadata": {
                "azdata_cell_guid": "f9694996-4545-48b9-9981-325b5c590570",
                "language": "sql"
            },
            "outputs": [],
            "execution_count": null
        },
        {
            "cell_type": "markdown",
            "source": [
                "9\\. Revisit question 7 using ISNULL instead of COALESCE.\n",
                "\n",
                "> A.  Has this changed the language\\_code  where the values are NULL?\n",
                "> \n",
                "> \\\\>Yes, it will change because we are using NULL instead of a value."
            ],
            "metadata": {
                "azdata_cell_guid": "57b87290-135f-478d-bf1c-2262759f8da5"
            },
            "attachments": {}
        },
        {
            "cell_type": "code",
            "source": [
                "-- Code here:\r\n",
                "--IS NULL\r\n",
                "SELECT TOP 5 title +' by ' + authors +' in ' + ISNULL(language_code,'unknown') AS 'Books with NULL'\r\n",
                "FROM dbo.books\r\n",
                "\r\n",
                "     "
            ],
            "metadata": {
                "azdata_cell_guid": "a9670717-6dc6-4685-9f62-7a588753b4a9",
                "language": "sql"
            },
            "outputs": [],
            "execution_count": null
        }
    ]
}